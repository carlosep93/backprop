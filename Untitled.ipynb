{
 "cells": [
  {
   "cell_type": "code",
   "execution_count": 1,
   "metadata": {},
   "outputs": [],
   "source": [
    "import numpy as np\n"
   ]
  },
  {
   "cell_type": "code",
   "execution_count": 6,
   "metadata": {},
   "outputs": [],
   "source": [
    "def sigmoid(x):\n",
    "    return 1.0/(1.0+np.exp(-x))"
   ]
  },
  {
   "cell_type": "code",
   "execution_count": 13,
   "metadata": {},
   "outputs": [],
   "source": [
    "class Layer():\n",
    "    '''\n",
    "    Layer parameters:\n",
    "    * input_size: input size of the layer\n",
    "    * n_units: number of units of the layer\n",
    "    * activation: activation function\n",
    "    '''\n",
    "    def __init__(self, input_size, n_units, activation):\n",
    "        self.input_size = input_size\n",
    "        self.n_units = n_units\n",
    "        self.activation = activation\n",
    "        self.print_params()\n",
    "        # input_size+1 to include the bias as weight\n",
    "        self.weigths = np.zeros((self.input_size+1,self.n_units))\n",
    "        \n",
    "    \n",
    "    def print_params(self):\n",
    "        print('***Layer params****')\n",
    "        print('input_size', self.input_size)\n",
    "        print('n_units', self.n_units)\n",
    "        print('********************\\n')"
   ]
  },
  {
   "cell_type": "code",
   "execution_count": 20,
   "metadata": {},
   "outputs": [],
   "source": [
    "class Net():\n",
    "    '''\n",
    "    Network parameters:\n",
    "    * units: array of units of each layer of the net\n",
    "    * activation: array of activation function of each layer of the net\n",
    "    '''\n",
    "    def __init__(self,input_size,units, activations):\n",
    "        self.input_size = input_size\n",
    "        self.units = units\n",
    "        self.inputs = [input_size]+units[:-1]\n",
    "        self.activations = activations\n",
    "        self.layers = []\n",
    "        for i in range(len(units)):\n",
    "            self.layers.append(Layer(self.inputs[i],units[i],activations[i]))\n",
    "    def forward_pass(self):\n",
    "        pass\n",
    "    \n",
    "    def backward_pass(self):\n",
    "        pass\n",
    "\n",
    "    \n",
    "        "
   ]
  },
  {
   "cell_type": "code",
   "execution_count": 21,
   "metadata": {},
   "outputs": [
    {
     "name": "stdout",
     "output_type": "stream",
     "text": [
      "***Layer params****\n",
      "('input_size', 2)\n",
      "('n_units', 5)\n",
      "********************\n",
      "\n",
      "***Layer params****\n",
      "('input_size', 5)\n",
      "('n_units', 5)\n",
      "********************\n",
      "\n",
      "***Layer params****\n",
      "('input_size', 5)\n",
      "('n_units', 3)\n",
      "********************\n",
      "\n"
     ]
    },
    {
     "data": {
      "text/plain": [
       "<__main__.Net instance at 0x7fd04d8ce8c0>"
      ]
     },
     "execution_count": 21,
     "metadata": {},
     "output_type": "execute_result"
    }
   ],
   "source": [
    "Net(2,[5,5,3],[sigmoid,sigmoid,sigmoid])"
   ]
  },
  {
   "cell_type": "code",
   "execution_count": null,
   "metadata": {},
   "outputs": [],
   "source": []
  }
 ],
 "metadata": {
  "kernelspec": {
   "display_name": "Python 2",
   "language": "python",
   "name": "python2"
  },
  "language_info": {
   "codemirror_mode": {
    "name": "ipython",
    "version": 2
   },
   "file_extension": ".py",
   "mimetype": "text/x-python",
   "name": "python",
   "nbconvert_exporter": "python",
   "pygments_lexer": "ipython2",
   "version": "2.7.13"
  }
 },
 "nbformat": 4,
 "nbformat_minor": 2
}
