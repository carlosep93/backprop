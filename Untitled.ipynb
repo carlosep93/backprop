{
 "cells": [
  {
   "cell_type": "code",
   "execution_count": 6,
   "metadata": {},
   "outputs": [],
   "source": [
    "import numpy as np\n"
   ]
  },
  {
   "cell_type": "code",
   "execution_count": 7,
   "metadata": {},
   "outputs": [],
   "source": [
    "def sigmoid(x):\n",
    "    return 1.0/(1.0+np.exp(-x))"
   ]
  },
  {
   "cell_type": "code",
   "execution_count": 8,
   "metadata": {},
   "outputs": [],
   "source": [
    "class Layer():\n",
    "    '''\n",
    "    Layer parameters:\n",
    "    * input_size: input size of the layer\n",
    "    * n_units: number of units of the layer\n",
    "    * activation: activation function\n",
    "    '''\n",
    "    def __init__(self, input_size, n_units, activation):\n",
    "        self.input_size = input_size\n",
    "        self.n_units = n_units\n",
    "        self.activation = activation\n",
    "        self.print_params()\n",
    "        # input_size+1 to include the bias as weight\n",
    "        self.weights = np.zeros((self.n_units,self.input_size+1))\n",
    "        \n",
    "    def print_params(self):\n",
    "        print('***Layer params****')\n",
    "        print('input_size', self.input_size)\n",
    "        print('n_units', self.n_units)\n",
    "        print('********************\\n')"
   ]
  },
  {
   "cell_type": "code",
   "execution_count": 9,
   "metadata": {},
   "outputs": [],
   "source": [
    "class Net():\n",
    "    '''\n",
    "    Network parameters:\n",
    "    * units: array of units of each layer of the net\n",
    "    * activation: array of activation function of each layer of the net\n",
    "    '''\n",
    "    def __init__(self,input_size,units, activations):\n",
    "        self.input_size = input_size\n",
    "        self.units = units\n",
    "        self.inputs = [input_size]+units[:-1]\n",
    "        self.activations = activations\n",
    "        self.layers = []\n",
    "        for i in range(len(units)):\n",
    "            self.layers.append(Layer(self.inputs[i],units[i],activations[i]))\n",
    "    def forward_pass(self,x):\n",
    "        res = x\n",
    "        for layer in self.layers:\n",
    "            res = np.hstack([[1],res])\n",
    "            #res = layer.activation(sum([np.matmul(wi,res) for wi in np.transpose(layer.weights)]))\n",
    "            res = layer.activation(np.matmul(layer.weights,res))\n",
    "        return res\n",
    "    \n",
    "    def backward_pass(self):\n",
    "        pass\n",
    "\n",
    "    \n",
    "        "
   ]
  },
  {
   "cell_type": "code",
   "execution_count": 10,
   "metadata": {},
   "outputs": [
    {
     "name": "stdout",
     "output_type": "stream",
     "text": [
      "***Layer params****\n",
      "('input_size', 2)\n",
      "('n_units', 5)\n",
      "********************\n",
      "\n",
      "***Layer params****\n",
      "('input_size', 5)\n",
      "('n_units', 5)\n",
      "********************\n",
      "\n",
      "***Layer params****\n",
      "('input_size', 5)\n",
      "('n_units', 3)\n",
      "********************\n",
      "\n"
     ]
    },
    {
     "data": {
      "text/plain": [
       "array([ 0.5,  0.5,  0.5])"
      ]
     },
     "execution_count": 10,
     "metadata": {},
     "output_type": "execute_result"
    }
   ],
   "source": [
    "n = Net(2,[5,5,3],[sigmoid,sigmoid,sigmoid])\n",
    "n.forward_pass(np.array([1,2]))"
   ]
  },
  {
   "cell_type": "code",
   "execution_count": null,
   "metadata": {},
   "outputs": [],
   "source": []
  }
 ],
 "metadata": {
  "kernelspec": {
   "display_name": "Python 2",
   "language": "python",
   "name": "python2"
  },
  "language_info": {
   "codemirror_mode": {
    "name": "ipython",
    "version": 2
   },
   "file_extension": ".py",
   "mimetype": "text/x-python",
   "name": "python",
   "nbconvert_exporter": "python",
   "pygments_lexer": "ipython2",
   "version": "2.7.13"
  }
 },
 "nbformat": 4,
 "nbformat_minor": 2
}
