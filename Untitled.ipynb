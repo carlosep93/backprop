{
 "cells": [
  {
   "cell_type": "code",
   "execution_count": 1,
   "metadata": {},
   "outputs": [],
   "source": [
    "import numpy as np\n"
   ]
  },
  {
   "cell_type": "code",
   "execution_count": 2,
   "metadata": {},
   "outputs": [],
   "source": [
    "def sigmoid(x):\n",
    "    return 1.0/(1.0+np.exp(-x))"
   ]
  },
  {
   "cell_type": "code",
   "execution_count": 3,
   "metadata": {},
   "outputs": [],
   "source": [
    "class Layer():\n",
    "    '''\n",
    "    Layer parameters:\n",
    "    * input_size: input size of the layer\n",
    "    * n_units: number of units of the layer\n",
    "    * activation: activation function\n",
    "    '''\n",
    "    def __init__(self, input_size, n_units, activation):\n",
    "        self.input_size = input_size\n",
    "        self.n_units = n_units\n",
    "        self.activation = activation\n",
    "        self.print_params()\n",
    "        # input_size+1 to include the bias as weight\n",
    "        self.weights = np.ones((self.n_units,self.input_size+1))\n",
    "        \n",
    "    def print_params(self):\n",
    "        print('***Layer params****')\n",
    "        print('input_size', self.input_size)\n",
    "        print('n_units', self.n_units)\n",
    "        print('********************\\n')"
   ]
  },
  {
   "cell_type": "code",
   "execution_count": 21,
   "metadata": {},
   "outputs": [],
   "source": [
    "class Net():\n",
    "    '''\n",
    "    Network parameters:\n",
    "    * units: array of units of each layer of the net\n",
    "    * activation: array of activation function of each layer of the net\n",
    "    '''\n",
    "    def __init__(self,input_size,units, activations):\n",
    "        self.input_size = input_size\n",
    "        self.units = units\n",
    "        self.inputs = [input_size]+units[:-1]\n",
    "        self.activations = activations\n",
    "        self.layers = []\n",
    "        for i in range(len(units)):\n",
    "            self.layers.append(Layer(self.inputs[i],units[i],activations[i]))\n",
    "            \n",
    "    def predict(self,x):\n",
    "        res = x\n",
    "        for layer in self.layers:\n",
    "            res = np.hstack([[1],res])\n",
    "            res = layer.activation(np.matmul(layer.weights,res))\n",
    "            print(res)\n",
    "            print('*************')\n",
    "        return res\n",
    "    \n",
    "    def forward_pass(self,x):\n",
    "        res = [x]\n",
    "        pre_act = []\n",
    "        for layer in self.layers:\n",
    "            res[-1] = np.hstack([[1],res[-1]])\n",
    "            pre_act.append(np.matmul(layer.weights,res[-1]))\n",
    "            res.append(layer.activation(pre_act[-1]))\n",
    "            \n",
    "            print(res[-1])\n",
    "            print('*************')\n",
    "        return res,pre_act\n",
    "    \n",
    "    def backward_pass(self,res,pre_act,y):\n",
    "        '''\n",
    "        treat output layer\n",
    "        g'(a) = g(a)*(1-g(a)) \n",
    "        '''\n",
    "        #deltas = [res[-1]*(1.0-res[-1])*(res[-1]-y)]\n",
    "        \n",
    "        deltas = [[np.matmul(res[-1],(1.0-res[-1]))]]\n",
    "        deltas[0] = [np.matmul(deltas[0],(res[-1]-y))]\n",
    "        print(deltas[-1])\n",
    "        print('**********************')\n",
    "        \n",
    "        for l,layer in list(enumerate(self.layers))[-2::-1]:\n",
    "            for z in res[l]:\n",
    "                sumcum = 0.0\n",
    "                for q in range(self.layers[l+1].weights.shape[0]):\n",
    "                    w = self.layers[l+1].weights[:,q]\n",
    "                    sumcum += deltas[-1][q] * w\n",
    "                deltas.append(z*(1.0-z)*sumcum)\n",
    "                print(deltas[-1])\n",
    "                print('**********************')\n",
    "                \n",
    "            \n",
    "        \n",
    "        \n",
    "    def train(self, x,y, epochs):\n",
    "        for e in range(epochs):\n",
    "            print('Forward')\n",
    "            res, pre_act = self.forward_pass(x)\n",
    "            print('Backwards')\n",
    "            self.backward_pass(res,pre_act,y)\n",
    "            \n",
    "\n",
    "    \n",
    "        "
   ]
  },
  {
   "cell_type": "code",
   "execution_count": 22,
   "metadata": {},
   "outputs": [
    {
     "name": "stdout",
     "output_type": "stream",
     "text": [
      "***Layer params****\n",
      "('input_size', 2)\n",
      "('n_units', 5)\n",
      "********************\n",
      "\n",
      "***Layer params****\n",
      "('input_size', 5)\n",
      "('n_units', 5)\n",
      "********************\n",
      "\n",
      "***Layer params****\n",
      "('input_size', 5)\n",
      "('n_units', 1)\n",
      "********************\n",
      "\n",
      "Forward\n",
      "[ 0.98201379  0.98201379  0.98201379  0.98201379  0.98201379]\n",
      "*************\n",
      "[ 0.99729534  0.99729534  0.99729534  0.99729534  0.99729534]\n",
      "*************\n",
      "[ 0.9974938]\n",
      "*************\n",
      "Backwards\n",
      "[[0.0024999229305475473]]\n",
      "[0.0024936576137268617]\n",
      "**********************\n",
      "[ 0.]\n",
      "**********************\n",
      "[ 0.]\n",
      "**********************\n",
      "[ 0.]\n",
      "**********************\n",
      "[ 0.]\n",
      "**********************\n",
      "[ 0.]\n",
      "**********************\n",
      "[ 0.]\n",
      "**********************\n"
     ]
    },
    {
     "ename": "IndexError",
     "evalue": "index 1 is out of bounds for axis 0 with size 1",
     "output_type": "error",
     "traceback": [
      "\u001b[0;31m---------------------------------------------------------------------------\u001b[0m",
      "\u001b[0;31mIndexError\u001b[0m                                Traceback (most recent call last)",
      "\u001b[0;32m<ipython-input-22-204f20fa8e18>\u001b[0m in \u001b[0;36m<module>\u001b[0;34m()\u001b[0m\n\u001b[1;32m      1\u001b[0m \u001b[0mn\u001b[0m \u001b[0;34m=\u001b[0m \u001b[0mNet\u001b[0m\u001b[0;34m(\u001b[0m\u001b[0;36m2\u001b[0m\u001b[0;34m,\u001b[0m\u001b[0;34m[\u001b[0m\u001b[0;36m5\u001b[0m\u001b[0;34m,\u001b[0m\u001b[0;36m5\u001b[0m\u001b[0;34m,\u001b[0m\u001b[0;36m1\u001b[0m\u001b[0;34m]\u001b[0m\u001b[0;34m,\u001b[0m\u001b[0;34m[\u001b[0m\u001b[0msigmoid\u001b[0m\u001b[0;34m,\u001b[0m\u001b[0msigmoid\u001b[0m\u001b[0;34m,\u001b[0m\u001b[0msigmoid\u001b[0m\u001b[0;34m]\u001b[0m\u001b[0;34m)\u001b[0m\u001b[0;34m\u001b[0m\u001b[0m\n\u001b[1;32m      2\u001b[0m \u001b[0;31m#n.forward_pass(np.array([1.0,2.0]))\u001b[0m\u001b[0;34m\u001b[0m\u001b[0;34m\u001b[0m\u001b[0m\n\u001b[0;32m----> 3\u001b[0;31m \u001b[0mn\u001b[0m\u001b[0;34m.\u001b[0m\u001b[0mtrain\u001b[0m\u001b[0;34m(\u001b[0m\u001b[0;34m[\u001b[0m\u001b[0;36m1.0\u001b[0m\u001b[0;34m,\u001b[0m\u001b[0;36m2.0\u001b[0m\u001b[0;34m]\u001b[0m\u001b[0;34m,\u001b[0m\u001b[0;34m[\u001b[0m\u001b[0;36m0\u001b[0m\u001b[0;34m]\u001b[0m\u001b[0;34m,\u001b[0m\u001b[0;36m1\u001b[0m\u001b[0;34m)\u001b[0m\u001b[0;34m\u001b[0m\u001b[0m\n\u001b[0m",
      "\u001b[0;32m<ipython-input-21-c18b906d5a0e>\u001b[0m in \u001b[0;36mtrain\u001b[0;34m(self, x, y, epochs)\u001b[0m\n\u001b[1;32m     66\u001b[0m             \u001b[0mres\u001b[0m\u001b[0;34m,\u001b[0m \u001b[0mpre_act\u001b[0m \u001b[0;34m=\u001b[0m \u001b[0mself\u001b[0m\u001b[0;34m.\u001b[0m\u001b[0mforward_pass\u001b[0m\u001b[0;34m(\u001b[0m\u001b[0mx\u001b[0m\u001b[0;34m)\u001b[0m\u001b[0;34m\u001b[0m\u001b[0m\n\u001b[1;32m     67\u001b[0m             \u001b[0;32mprint\u001b[0m\u001b[0;34m(\u001b[0m\u001b[0;34m'Backwards'\u001b[0m\u001b[0;34m)\u001b[0m\u001b[0;34m\u001b[0m\u001b[0m\n\u001b[0;32m---> 68\u001b[0;31m             \u001b[0mself\u001b[0m\u001b[0;34m.\u001b[0m\u001b[0mbackward_pass\u001b[0m\u001b[0;34m(\u001b[0m\u001b[0mres\u001b[0m\u001b[0;34m,\u001b[0m\u001b[0mpre_act\u001b[0m\u001b[0;34m,\u001b[0m\u001b[0my\u001b[0m\u001b[0;34m)\u001b[0m\u001b[0;34m\u001b[0m\u001b[0m\n\u001b[0m\u001b[1;32m     69\u001b[0m \u001b[0;34m\u001b[0m\u001b[0m\n\u001b[1;32m     70\u001b[0m \u001b[0;34m\u001b[0m\u001b[0m\n",
      "\u001b[0;32m<ipython-input-21-c18b906d5a0e>\u001b[0m in \u001b[0;36mbackward_pass\u001b[0;34m(self, res, pre_act, y)\u001b[0m\n\u001b[1;32m     53\u001b[0m                 \u001b[0;32mfor\u001b[0m \u001b[0mq\u001b[0m \u001b[0;32min\u001b[0m \u001b[0mrange\u001b[0m\u001b[0;34m(\u001b[0m\u001b[0mself\u001b[0m\u001b[0;34m.\u001b[0m\u001b[0mlayers\u001b[0m\u001b[0;34m[\u001b[0m\u001b[0ml\u001b[0m\u001b[0;34m+\u001b[0m\u001b[0;36m1\u001b[0m\u001b[0;34m]\u001b[0m\u001b[0;34m.\u001b[0m\u001b[0mweights\u001b[0m\u001b[0;34m.\u001b[0m\u001b[0mshape\u001b[0m\u001b[0;34m[\u001b[0m\u001b[0;36m0\u001b[0m\u001b[0;34m]\u001b[0m\u001b[0;34m)\u001b[0m\u001b[0;34m:\u001b[0m\u001b[0;34m\u001b[0m\u001b[0m\n\u001b[1;32m     54\u001b[0m                     \u001b[0mw\u001b[0m \u001b[0;34m=\u001b[0m \u001b[0mself\u001b[0m\u001b[0;34m.\u001b[0m\u001b[0mlayers\u001b[0m\u001b[0;34m[\u001b[0m\u001b[0ml\u001b[0m\u001b[0;34m+\u001b[0m\u001b[0;36m1\u001b[0m\u001b[0;34m]\u001b[0m\u001b[0;34m.\u001b[0m\u001b[0mweights\u001b[0m\u001b[0;34m[\u001b[0m\u001b[0;34m:\u001b[0m\u001b[0;34m,\u001b[0m\u001b[0mq\u001b[0m\u001b[0;34m]\u001b[0m\u001b[0;34m\u001b[0m\u001b[0m\n\u001b[0;32m---> 55\u001b[0;31m                     \u001b[0msumcum\u001b[0m \u001b[0;34m+=\u001b[0m \u001b[0mdeltas\u001b[0m\u001b[0;34m[\u001b[0m\u001b[0;34m-\u001b[0m\u001b[0;36m1\u001b[0m\u001b[0;34m]\u001b[0m\u001b[0;34m[\u001b[0m\u001b[0mq\u001b[0m\u001b[0;34m]\u001b[0m \u001b[0;34m*\u001b[0m \u001b[0mw\u001b[0m\u001b[0;34m\u001b[0m\u001b[0m\n\u001b[0m\u001b[1;32m     56\u001b[0m                 \u001b[0mdeltas\u001b[0m\u001b[0;34m.\u001b[0m\u001b[0mappend\u001b[0m\u001b[0;34m(\u001b[0m\u001b[0mz\u001b[0m\u001b[0;34m*\u001b[0m\u001b[0;34m(\u001b[0m\u001b[0;36m1.0\u001b[0m\u001b[0;34m-\u001b[0m\u001b[0mz\u001b[0m\u001b[0;34m)\u001b[0m\u001b[0;34m*\u001b[0m\u001b[0msumcum\u001b[0m\u001b[0;34m)\u001b[0m\u001b[0;34m\u001b[0m\u001b[0m\n\u001b[1;32m     57\u001b[0m                 \u001b[0;32mprint\u001b[0m\u001b[0;34m(\u001b[0m\u001b[0mdeltas\u001b[0m\u001b[0;34m[\u001b[0m\u001b[0;34m-\u001b[0m\u001b[0;36m1\u001b[0m\u001b[0;34m]\u001b[0m\u001b[0;34m)\u001b[0m\u001b[0;34m\u001b[0m\u001b[0m\n",
      "\u001b[0;31mIndexError\u001b[0m: index 1 is out of bounds for axis 0 with size 1"
     ]
    }
   ],
   "source": [
    "n = Net(2,[5,5,1],[sigmoid,sigmoid,sigmoid])\n",
    "#n.forward_pass(np.array([1.0,2.0]))\n",
    "n.train([1.0,2.0],[0],1)"
   ]
  },
  {
   "cell_type": "code",
   "execution_count": null,
   "metadata": {},
   "outputs": [],
   "source": []
  }
 ],
 "metadata": {
  "kernelspec": {
   "display_name": "Python 2",
   "language": "python",
   "name": "python2"
  },
  "language_info": {
   "codemirror_mode": {
    "name": "ipython",
    "version": 2
   },
   "file_extension": ".py",
   "mimetype": "text/x-python",
   "name": "python",
   "nbconvert_exporter": "python",
   "pygments_lexer": "ipython2",
   "version": "2.7.13"
  }
 },
 "nbformat": 4,
 "nbformat_minor": 2
}
